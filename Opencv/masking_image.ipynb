{
 "cells": [
  {
   "cell_type": "code",
   "execution_count": 56,
   "id": "af51827a",
   "metadata": {},
   "outputs": [],
   "source": [
    "import cv2\n",
    "import numpy as np"
   ]
  },
  {
   "cell_type": "code",
   "execution_count": 57,
   "id": "c1655194",
   "metadata": {},
   "outputs": [],
   "source": [
    "image = cv2.imread(\"bird.jpg\")"
   ]
  },
  {
   "cell_type": "code",
   "execution_count": 58,
   "id": "70c26917",
   "metadata": {},
   "outputs": [],
   "source": [
    "mask = np.zeros(image.shape[:2],dtype = \"uint8\")\n",
    "\n",
    "cv2.imshow(\"new\",mask)\n",
    "cv2.waitKey(0)\n",
    "cv2.destroyAllWindows()"
   ]
  },
  {
   "cell_type": "code",
   "execution_count": 59,
   "id": "aefaacb5",
   "metadata": {},
   "outputs": [],
   "source": [
    "cx,cy = mask.shape[1]//2,mask.shape[0]//2\n",
    "\n",
    "cv2.rectangle(mask,(cx-100,cy-200),(cx+100,cy+200),255,-1)\n",
    "\n",
    "cv2.imshow(\"new\",mask)\n",
    "cv2.waitKey(0)\n",
    "cv2.destroyAllWindows()"
   ]
  },
  {
   "cell_type": "code",
   "execution_count": 60,
   "id": "26dd1746",
   "metadata": {},
   "outputs": [],
   "source": [
    "img_data = cv2.bitwise_and(image,image,mask = mask)\n",
    "\n",
    "cv2.imshow(\"new\",img_data)\n",
    "cv2.waitKey(0)\n",
    "cv2.destroyAllWindows()"
   ]
  },
  {
   "cell_type": "code",
   "execution_count": 63,
   "id": "c3a6feb4",
   "metadata": {},
   "outputs": [],
   "source": [
    "mask_not = cv2.bitwise_not(mask)\n",
    "cv2.imshow(\"no w\",mask_not)\n",
    "cv2.waitKey(0)\n",
    "cv2.destroyAllWindows()"
   ]
  },
  {
   "cell_type": "code",
   "execution_count": 64,
   "id": "eb04ed42",
   "metadata": {},
   "outputs": [],
   "source": [
    "img = cv2.bitwise_and(image,image,mask = mask_not)\n",
    "\n",
    "cv2.imshow(\"new\",img)\n",
    "cv2.waitKey(0)\n",
    "cv2.destroyAllWindows()"
   ]
  },
  {
   "cell_type": "code",
   "execution_count": null,
   "id": "330b8cb5",
   "metadata": {},
   "outputs": [],
   "source": []
  }
 ],
 "metadata": {
  "kernelspec": {
   "display_name": "Python 3 (ipykernel)",
   "language": "python",
   "name": "python3"
  },
  "language_info": {
   "codemirror_mode": {
    "name": "ipython",
    "version": 3
   },
   "file_extension": ".py",
   "mimetype": "text/x-python",
   "name": "python",
   "nbconvert_exporter": "python",
   "pygments_lexer": "ipython3",
   "version": "3.9.12"
  }
 },
 "nbformat": 4,
 "nbformat_minor": 5
}
