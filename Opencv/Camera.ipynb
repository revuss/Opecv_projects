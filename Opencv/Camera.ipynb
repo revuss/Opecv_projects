{
 "cells": [
  {
   "cell_type": "code",
   "execution_count": 1,
   "id": "99c4166b",
   "metadata": {},
   "outputs": [],
   "source": [
    "import cv2\n",
    "import numpy as np\n",
    "import time"
   ]
  },
  {
   "cell_type": "code",
   "execution_count": 2,
   "id": "357fdcb7",
   "metadata": {},
   "outputs": [],
   "source": [
    "cap = cv2.VideoCapture(0)\n",
    "fps = 0"
   ]
  },
  {
   "cell_type": "code",
   "execution_count": 3,
   "id": "0464a293",
   "metadata": {},
   "outputs": [],
   "source": [
    "while True:\n",
    "    start = time.time()\n",
    "    ret,frame = cap.read()\n",
    "    \n",
    "    \n",
    "    if ret == False:\n",
    "        break\n",
    "    cv2.putText(frame,'FPS : {:.0f}'.format(fps),(30,40),cv2.FONT_HERSHEY_COMPLEX,1.5,(200,200,200),1)\n",
    "    cv2.imshow(\"window\",frame)\n",
    "    if cv2.waitKey(1) == ord('q'):\n",
    "        break\n",
    "    time_taken = time.time() - start\n",
    "    fps = 1/time_taken\n",
    "cap.release()\n",
    "cv2.destroyAllWindows()"
   ]
  },
  {
   "cell_type": "code",
   "execution_count": null,
   "id": "de09114a",
   "metadata": {},
   "outputs": [],
   "source": []
  }
 ],
 "metadata": {
  "kernelspec": {
   "display_name": "Python 3 (ipykernel)",
   "language": "python",
   "name": "python3"
  },
  "language_info": {
   "codemirror_mode": {
    "name": "ipython",
    "version": 3
   },
   "file_extension": ".py",
   "mimetype": "text/x-python",
   "name": "python",
   "nbconvert_exporter": "python",
   "pygments_lexer": "ipython3",
   "version": "3.9.12"
  }
 },
 "nbformat": 4,
 "nbformat_minor": 5
}
