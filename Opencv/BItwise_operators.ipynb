{
 "cells": [
  {
   "cell_type": "code",
   "execution_count": 30,
   "id": "5e7fbfe4",
   "metadata": {},
   "outputs": [],
   "source": [
    "import cv2\n",
    "import numpy as np"
   ]
  },
  {
   "cell_type": "code",
   "execution_count": 31,
   "id": "098f38f6",
   "metadata": {},
   "outputs": [
    {
     "data": {
      "text/plain": [
       "array([[0, 0, 0, ..., 0, 0, 0],\n",
       "       [0, 0, 0, ..., 0, 0, 0],\n",
       "       [0, 0, 0, ..., 0, 0, 0],\n",
       "       ...,\n",
       "       [0, 0, 0, ..., 0, 0, 0],\n",
       "       [0, 0, 0, ..., 0, 0, 0],\n",
       "       [0, 0, 0, ..., 0, 0, 0]], dtype=uint8)"
      ]
     },
     "execution_count": 31,
     "metadata": {},
     "output_type": "execute_result"
    }
   ],
   "source": [
    "image = np.zeros((300,300),dtype=\"uint8\")\n",
    "cv2.rectangle(image,(20,20),(280,280),(255,255,255),-1)"
   ]
  },
  {
   "cell_type": "code",
   "execution_count": 16,
   "id": "e153042b",
   "metadata": {},
   "outputs": [],
   "source": [
    "cv2.imshow(\"new\",image)\n",
    "cv2.waitKey(0)\n",
    "cv2.destroyAllWindows()"
   ]
  },
  {
   "cell_type": "code",
   "execution_count": 32,
   "id": "6712937a",
   "metadata": {},
   "outputs": [],
   "source": [
    "circle = np.zeros((300,300),dtype=\"uint8\")\n",
    "cv2.circle(circle,(150,150),150,255,-1)\n",
    "cv2.imshow(\"new\",circle)\n",
    "cv2.waitKey(0)\n",
    "cv2.destroyAllWindows()"
   ]
  },
  {
   "cell_type": "code",
   "execution_count": 33,
   "id": "2a63805d",
   "metadata": {},
   "outputs": [],
   "source": [
    "img = cv2.bitwise_and(image,circle)"
   ]
  },
  {
   "cell_type": "code",
   "execution_count": 34,
   "id": "a1b97a19",
   "metadata": {},
   "outputs": [],
   "source": [
    "cv2.imshow(\"new\",img)\n",
    "cv2.waitKey(0)\n",
    "cv2.destroyAllWindows()"
   ]
  },
  {
   "cell_type": "code",
   "execution_count": 35,
   "id": "894e8b09",
   "metadata": {},
   "outputs": [],
   "source": [
    "img = cv2.bitwise_not(image,circle)\n",
    "cv2.imshow(\"new\",img)\n",
    "cv2.waitKey(0)\n",
    "cv2.destroyAllWindows()"
   ]
  },
  {
   "cell_type": "code",
   "execution_count": 27,
   "id": "5400f63d",
   "metadata": {},
   "outputs": [],
   "source": [
    "img = cv2.bitwise_or(image,circle)\n",
    "cv2.imshow(\"new\",img)\n",
    "cv2.waitKey(0)\n",
    "cv2.destroyAllWindows()"
   ]
  },
  {
   "cell_type": "code",
   "execution_count": 29,
   "id": "d5af6a68",
   "metadata": {},
   "outputs": [],
   "source": [
    "img = cv2.bitwise_xor(image,circle)\n",
    "cv2.imshow(\"new\",img)\n",
    "cv2.waitKey(0)\n",
    "cv2.destroyAllWindows()"
   ]
  },
  {
   "cell_type": "code",
   "execution_count": null,
   "id": "f6e42811",
   "metadata": {},
   "outputs": [],
   "source": []
  }
 ],
 "metadata": {
  "kernelspec": {
   "display_name": "Python 3 (ipykernel)",
   "language": "python",
   "name": "python3"
  },
  "language_info": {
   "codemirror_mode": {
    "name": "ipython",
    "version": 3
   },
   "file_extension": ".py",
   "mimetype": "text/x-python",
   "name": "python",
   "nbconvert_exporter": "python",
   "pygments_lexer": "ipython3",
   "version": "3.9.12"
  }
 },
 "nbformat": 4,
 "nbformat_minor": 5
}
