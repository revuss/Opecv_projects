{
 "cells": [
  {
   "cell_type": "code",
   "execution_count": 22,
   "id": "bf290f36",
   "metadata": {},
   "outputs": [],
   "source": [
    "import numpy as np\n",
    "import cv2"
   ]
  },
  {
   "cell_type": "code",
   "execution_count": null,
   "id": "64ee2f91",
   "metadata": {},
   "outputs": [],
   "source": [
    "def face_dete(image):\n",
    "    img = image.copy()\n",
    "    mod = cv2.dnn.readNetFromCaffe('./models/deploy.prototxt.txt','./models/res10_300x300_ssd_iter_140000_fp16.caffemodel')\n",
    "    blob = cv2.dnn.blobFromImage(img,1,(300,300),(104,177,123),swapRB=True)\n",
    "    mod.setInput(blob)\n",
    "    \n",
    "    detection = mod.forward()\n",
    "    h,w = img.shape[:2]\n",
    "    \n",
    "    for i in range(0,detection.shape[2]):\n",
    "        confidence = detection[0,0,i,2]\n",
    "        if confidence > 0.5:\n",
    "            box = detection[0,0,i,3:7]*np.array([w,h,w,h])\n",
    "            box = box.astype('int')\n",
    "            pt1 = (box[0],box[1])\n",
    "            pt2 = (box[2],box[3])\n",
    "            cv2.rectangle(img,pt1,pt2,(0,255,0),1)\n",
    "            text =\"score is : {:.0f}\".format(confidence*100)\n",
    "            \n",
    "            cv2.putText(img,text,pt1,cv2.FONT_HERSHEY_COMPLEX,1,(255,250,0),2)\n",
    "    return img"
   ]
  },
  {
   "cell_type": "code",
   "execution_count": 17,
   "id": "23ed174e",
   "metadata": {},
   "outputs": [],
   "source": [
    "cap = cv2.VideoCapture(0)\n",
    "while True:\n",
    "    ret,frame = cap.read()\n",
    "    \n",
    "    if ret == False:\n",
    "        break\n",
    "    \n",
    "    a = face_dete(frame)\n",
    "    cv2.imshow(\"new\",a)\n",
    "    \n",
    "    if cv2.waitKey(1) == ord(\"q\"):\n",
    "        break\n",
    "cap.release()\n",
    "cv2.destroyAllWindows()\n",
    "    "
   ]
  },
  {
   "cell_type": "code",
   "execution_count": 23,
   "id": "e33e4120",
   "metadata": {},
   "outputs": [],
   "source": [
    "def display(name,img):\n",
    "    cv2.imshow(name,img)\n",
    "    cv2.waitKey(0)\n",
    "    cv2.destroyAllWindows()"
   ]
  },
  {
   "cell_type": "markdown",
   "id": "a7407141",
   "metadata": {},
   "source": [
    "# Rotate Image"
   ]
  },
  {
   "cell_type": "code",
   "execution_count": 50,
   "id": "353faf87",
   "metadata": {},
   "outputs": [],
   "source": [
    "def rotate(image,angle,scale):\n",
    "    center = (image.shape[1]//2,image.shape[0]//2)\n",
    "    M = cv2.getRotationMatrix2D(center,angle,scale)\n",
    "    rotated = cv2.warpAffine(image,M,(image.shape[1],image.shape[0]))\n",
    "    display(\"new\",rotated)"
   ]
  },
  {
   "cell_type": "code",
   "execution_count": 51,
   "id": "e9cca006",
   "metadata": {},
   "outputs": [],
   "source": [
    "img = cv2.imread('bird.jpg')"
   ]
  },
  {
   "cell_type": "code",
   "execution_count": 52,
   "id": "60c02fd7",
   "metadata": {},
   "outputs": [],
   "source": [
    "rotate(img,45,1)"
   ]
  },
  {
   "cell_type": "markdown",
   "id": "be597434",
   "metadata": {},
   "source": [
    "\n",
    "# Resizing "
   ]
  },
  {
   "cell_type": "code",
   "execution_count": 57,
   "id": "9891819a",
   "metadata": {},
   "outputs": [],
   "source": [
    "resize = cv2.resize(img,(300,300),interpolation = cv2.INTER_AREA)\n",
    "display(\"image\",resize)"
   ]
  },
  {
   "cell_type": "code",
   "execution_count": null,
   "id": "3657577d",
   "metadata": {},
   "outputs": [],
   "source": []
  }
 ],
 "metadata": {
  "kernelspec": {
   "display_name": "Python 3 (ipykernel)",
   "language": "python",
   "name": "python3"
  },
  "language_info": {
   "codemirror_mode": {
    "name": "ipython",
    "version": 3
   },
   "file_extension": ".py",
   "mimetype": "text/x-python",
   "name": "python",
   "nbconvert_exporter": "python",
   "pygments_lexer": "ipython3",
   "version": "3.9.12"
  }
 },
 "nbformat": 4,
 "nbformat_minor": 5
}
