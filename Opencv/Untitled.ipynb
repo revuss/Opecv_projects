{
 "cells": [
  {
   "cell_type": "code",
   "execution_count": 5,
   "id": "da2ae1a0",
   "metadata": {},
   "outputs": [],
   "source": [
    "import numpy as np\n",
    "\n",
    "import cv2 "
   ]
  },
  {
   "cell_type": "code",
   "execution_count": 6,
   "id": "9e925503",
   "metadata": {},
   "outputs": [
    {
     "data": {
      "text/plain": [
       "(681, 640, 3)"
      ]
     },
     "execution_count": 6,
     "metadata": {},
     "output_type": "execute_result"
    }
   ],
   "source": [
    "img = cv2.imread('bird.jpg')\n",
    "img.shape"
   ]
  },
  {
   "cell_type": "code",
   "execution_count": 8,
   "id": "91d17254",
   "metadata": {},
   "outputs": [],
   "source": [
    "cv2.waitKey(0)\n",
    "cv2.destroyAllWindows()"
   ]
  },
  {
   "cell_type": "code",
   "execution_count": 12,
   "id": "f9f163cc",
   "metadata": {},
   "outputs": [],
   "source": [
    "b,g,r = cv2.split(img)"
   ]
  },
  {
   "cell_type": "code",
   "execution_count": 14,
   "id": "589c34e9",
   "metadata": {},
   "outputs": [],
   "source": [
    "cv2.imshow(\"new\",img)\n",
    "cv2.imshow('blue',b)\n",
    "cv2.imshow('green',g)\n",
    "cv2.imshow('red',r)\n",
    "cv2.waitKey(0)\n",
    "cv2.destroyAllWindows()"
   ]
  },
  {
   "cell_type": "code",
   "execution_count": 10,
   "id": "66dc1177",
   "metadata": {},
   "outputs": [],
   "source": [
    "new = cv2.cvtColor(img,cv2.COLOR_BGR2RGB)\n",
    "nh = cv2.cvtColor(img,cv2.COLOR_BGR2HLS_FULL)\n",
    "gray = cv2.cvtColor(img,cv2.COLOR_BGR2GRAY)\n",
    "cv2.imshow('rm',new)\n",
    "cv2.imshow('r',nh)\n",
    "cv2.imshow('m',gray)\n",
    "cv2.waitKey(0)\n",
    "cv2.destroyAllWindows()"
   ]
  },
  {
   "cell_type": "code",
   "execution_count": null,
   "id": "780bf718",
   "metadata": {},
   "outputs": [],
   "source": []
  }
 ],
 "metadata": {
  "kernelspec": {
   "display_name": "Python 3 (ipykernel)",
   "language": "python",
   "name": "python3"
  },
  "language_info": {
   "codemirror_mode": {
    "name": "ipython",
    "version": 3
   },
   "file_extension": ".py",
   "mimetype": "text/x-python",
   "name": "python",
   "nbconvert_exporter": "python",
   "pygments_lexer": "ipython3",
   "version": "3.9.12"
  }
 },
 "nbformat": 4,
 "nbformat_minor": 5
}
