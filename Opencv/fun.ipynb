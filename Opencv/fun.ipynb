{
 "cells": [
  {
   "cell_type": "code",
   "execution_count": 2,
   "id": "904bef38",
   "metadata": {},
   "outputs": [],
   "source": [
    "import numpy as np\n",
    "import cv2"
   ]
  },
  {
   "cell_type": "code",
   "execution_count": 91,
   "id": "25948ab3",
   "metadata": {},
   "outputs": [],
   "source": [
    "img = cv2.imread('bird.jpg')"
   ]
  },
  {
   "cell_type": "code",
   "execution_count": 6,
   "id": "73272be3",
   "metadata": {},
   "outputs": [
    {
     "data": {
      "text/plain": [
       "(681, 640, 3)"
      ]
     },
     "execution_count": 6,
     "metadata": {},
     "output_type": "execute_result"
    }
   ],
   "source": [
    "img.shape"
   ]
  },
  {
   "cell_type": "code",
   "execution_count": 67,
   "id": "3e1a4d2f",
   "metadata": {},
   "outputs": [],
   "source": [
    "def display(title,image):\n",
    "    cv2.imshow(title,image)\n",
    "    cv2.waitKey(0)\n",
    "    cv2.destroyAllWindows()"
   ]
  },
  {
   "cell_type": "code",
   "execution_count": 13,
   "id": "cb801848",
   "metadata": {},
   "outputs": [],
   "source": [
    "display(\"new\",img)"
   ]
  },
  {
   "cell_type": "code",
   "execution_count": 51,
   "id": "469a95f8",
   "metadata": {},
   "outputs": [],
   "source": [
    "frst = img[0:100,0:100]"
   ]
  },
  {
   "cell_type": "code",
   "execution_count": 52,
   "id": "30de97ed",
   "metadata": {},
   "outputs": [],
   "source": [
    "display(\"n\",frst)"
   ]
  },
  {
   "cell_type": "code",
   "execution_count": 78,
   "id": "b44f0c25",
   "metadata": {},
   "outputs": [],
   "source": [
    "green = (0,255,0)"
   ]
  },
  {
   "cell_type": "code",
   "execution_count": 94,
   "id": "5a3de0b2",
   "metadata": {},
   "outputs": [],
   "source": [
    "img[0:100,0:50] = green\n"
   ]
  },
  {
   "cell_type": "code",
   "execution_count": 95,
   "id": "6e08e9bd",
   "metadata": {},
   "outputs": [],
   "source": [
    "display(\"new\",img)"
   ]
  },
  {
   "cell_type": "code",
   "execution_count": null,
   "id": "45413d60",
   "metadata": {},
   "outputs": [],
   "source": []
  }
 ],
 "metadata": {
  "kernelspec": {
   "display_name": "Python 3 (ipykernel)",
   "language": "python",
   "name": "python3"
  },
  "language_info": {
   "codemirror_mode": {
    "name": "ipython",
    "version": 3
   },
   "file_extension": ".py",
   "mimetype": "text/x-python",
   "name": "python",
   "nbconvert_exporter": "python",
   "pygments_lexer": "ipython3",
   "version": "3.9.12"
  }
 },
 "nbformat": 4,
 "nbformat_minor": 5
}
