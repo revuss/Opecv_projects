{
 "cells": [
  {
   "cell_type": "code",
   "execution_count": 2,
   "id": "39619395",
   "metadata": {},
   "outputs": [],
   "source": [
    "import cv2\n",
    "import numpy as np"
   ]
  },
  {
   "cell_type": "code",
   "execution_count": 22,
   "id": "0554000a",
   "metadata": {},
   "outputs": [],
   "source": [
    "image = np.zeros((1400,2960,3),dtype=\"uint8\")\n",
    "# 1440 x 2960"
   ]
  },
  {
   "cell_type": "code",
   "execution_count": 4,
   "id": "4a589b24",
   "metadata": {},
   "outputs": [],
   "source": [
    "def display(name,image):\n",
    "    cv2.imshow(name,image)\n",
    "    cv2.waitKey(0)\n",
    "    cv2.destroyAllWindows()"
   ]
  },
  {
   "cell_type": "code",
   "execution_count": 5,
   "id": "ea819534",
   "metadata": {},
   "outputs": [],
   "source": [
    "display(\"window\",image)"
   ]
  },
  {
   "cell_type": "code",
   "execution_count": null,
   "id": "9daaae5b",
   "metadata": {},
   "outputs": [],
   "source": [
    "color = (105,100,105)\n",
    "cv2.rectangle(image,(0,0),(150,150),color,2)\n",
    "cv2.rectangle(image,(150,150),(300,300),color,2)\n",
    "display(\"rectangle\",image)"
   ]
  }
 ],
 "metadata": {
  "kernelspec": {
   "display_name": "Python 3 (ipykernel)",
   "language": "python",
   "name": "python3"
  },
  "language_info": {
   "codemirror_mode": {
    "name": "ipython",
    "version": 3
   },
   "file_extension": ".py",
   "mimetype": "text/x-python",
   "name": "python",
   "nbconvert_exporter": "python",
   "pygments_lexer": "ipython3",
   "version": "3.9.12"
  }
 },
 "nbformat": 4,
 "nbformat_minor": 5
}
