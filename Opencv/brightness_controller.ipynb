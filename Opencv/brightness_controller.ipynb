{
 "cells": [
  {
   "cell_type": "code",
   "execution_count": 2,
   "id": "e06ac92a",
   "metadata": {},
   "outputs": [],
   "source": [
    "import numpy as np\n",
    "import cv2"
   ]
  },
  {
   "cell_type": "code",
   "execution_count": 3,
   "id": "9093413e",
   "metadata": {},
   "outputs": [],
   "source": [
    "image = cv2.imread('bird.jpg')\n",
    "cv2.imshow(\"image\",image)\n",
    "cv2.waitKey(0)\n",
    "cv2.destroyAllWindows()"
   ]
  },
  {
   "cell_type": "code",
   "execution_count": 6,
   "id": "57190884",
   "metadata": {},
   "outputs": [],
   "source": [
    "def nothing(x):\n",
    "    pass\n",
    "cv2.namedWindow(\"Brightness Control\")\n",
    "bright = cv2.createTrackbar(\"Brightness\",\"Brightness Control\",75,255,nothing)\n",
    "value = np.ones_like(image,dtype='uint8')\n",
    "\n",
    "while True:\n",
    "    bright = cv2.getTrackbarPos(\"Brightness\",\"Brightness Control\")\n",
    "    bar= bright - 127\n",
    "    if bar >= 0:\n",
    "        value = np.ones_like(image,dtype=\"uint8\")*bar\n",
    "        img_ctrl = cv2.add(image,value)\n",
    "        \n",
    "    else:\n",
    "        bright = 127 - bright\n",
    "        value = np.ones_like(image,dtype=\"uint8\")*bright\n",
    "        img_ctrl = cv2.add(image,value)\n",
    "        \n",
    "    cv2.imshow(\"Brightness Control\",img_ctrl)\n",
    "    \n",
    "    if cv2.waitKey(1) == 27:\n",
    "        break\n",
    "        \n",
    "cv2.destroyAllWindows()\n",
    "        "
   ]
  },
  {
   "cell_type": "code",
   "execution_count": 19,
   "id": "0fa4d7af",
   "metadata": {},
   "outputs": [],
   "source": [
    "def nothing(x):\n",
    "    pass\n",
    "\n",
    "cv2.namedWindow(\"Brightness Control\")\n",
    "bright = cv2.createTrackbar(\"Brightness\",\"Brightness Control\",75,255,nothing)\n",
    "value = np.ones_like(image,dtype='uint8')\n",
    "\n",
    "while True:\n",
    "    bright = cv2.getTrackbarPos(\"Brightness\",\"Brightness Control\")\n",
    "    bar = bright - 127\n",
    "    if bar >= 0 :\n",
    "        value = np.ones_like(image,dtype='uint8')*bar\n",
    "        img_ctrl = cv2.add(image,value)\n",
    "    else:\n",
    "        bright = 127 - bright\n",
    "        value = np.ones_like(image,dtype='uint8')*bright\n",
    "        img_ctrl = cv2.subtract(image,value)\n",
    "    \n",
    "    cv2.imshow(\"Brightness Control\",img_ctrl)\n",
    "    \n",
    "    if cv2.waitKey(1) == 27 :\n",
    "        break\n",
    "    \n",
    "cv2.destroyAllWindows()\n",
    "    "
   ]
  },
  {
   "cell_type": "code",
   "execution_count": 20,
   "id": "7609116a",
   "metadata": {},
   "outputs": [],
   "source": [
    "def bright_contrl(image,bright):\n",
    "    bar= bright - 127\n",
    "    if bar >= 0:\n",
    "        value = np.ones_like(image,dtype=\"uint8\")*bar\n",
    "        img_ctrl = cv2.add(image,value)\n",
    "\n",
    "    else:\n",
    "        bright = 127 - bright\n",
    "        value = np.ones_like(image,dtype=\"uint8\")*bright\n",
    "        img_ctrl = cv2.add(image,value)\n",
    "    \n",
    "    return img_ctrl"
   ]
  },
  {
   "cell_type": "code",
   "execution_count": 21,
   "id": "b6b9c0ce",
   "metadata": {},
   "outputs": [],
   "source": [
    "cap = cv2.VideoCapture(0)\n",
    "cv2.namedWindow(\"Brightness Control\")\n",
    "bright = cv2.createTrackbar(\"Brightness\",\"Brightness Control\",75,255,nothing)\n",
    "value = np.ones_like(image,dtype='uint8')\n",
    "\n",
    "while True:\n",
    "    ret,frame = cap.read()\n",
    "    if ret == False:\n",
    "        break\n",
    "    bright = cv2.getTrackbarPos(\"Brightness\",\"Brightness Control\")\n",
    "    im = bright_contrl(frame,bright)\n",
    "    cv2.imshow(\"Brightness Control\",im)\n",
    "    if cv2.waitKey(1)== 27:\n",
    "        break\n",
    "cap.release()\n",
    "cv2.destroyAllWindows()"
   ]
  },
  {
   "cell_type": "code",
   "execution_count": null,
   "id": "f4b35275",
   "metadata": {},
   "outputs": [],
   "source": []
  }
 ],
 "metadata": {
  "kernelspec": {
   "display_name": "Python 3 (ipykernel)",
   "language": "python",
   "name": "python3"
  },
  "language_info": {
   "codemirror_mode": {
    "name": "ipython",
    "version": 3
   },
   "file_extension": ".py",
   "mimetype": "text/x-python",
   "name": "python",
   "nbconvert_exporter": "python",
   "pygments_lexer": "ipython3",
   "version": "3.9.12"
  }
 },
 "nbformat": 4,
 "nbformat_minor": 5
}
