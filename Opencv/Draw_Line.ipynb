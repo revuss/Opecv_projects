{
 "cells": [
  {
   "cell_type": "code",
   "execution_count": 1,
   "id": "ca85ac4e",
   "metadata": {},
   "outputs": [],
   "source": [
    "import cv2\n",
    "import numpy as np"
   ]
  },
  {
   "cell_type": "code",
   "execution_count": 69,
   "id": "47f36f50",
   "metadata": {},
   "outputs": [],
   "source": [
    "image = np.zeros((300,300,3),dtype='uint8')"
   ]
  },
  {
   "cell_type": "code",
   "execution_count": 7,
   "id": "757a0063",
   "metadata": {},
   "outputs": [],
   "source": [
    "def display(name,img_name):\n",
    "    cv2.imshow(name,img_name)\n",
    "    cv2.waitKey(0)\n",
    "    cv2.destroyAllWindows()"
   ]
  },
  {
   "cell_type": "code",
   "execution_count": 8,
   "id": "a75ac833",
   "metadata": {},
   "outputs": [],
   "source": [
    "display(\"image\",image)"
   ]
  },
  {
   "cell_type": "code",
   "execution_count": 71,
   "id": "76c6f97d",
   "metadata": {},
   "outputs": [],
   "source": [
    "green=(0,255,0)\n",
    "cv2.line(image,(0,0),(300,300),green,2)\n",
    "cv2.line(image,(0,300),(300,0),green,2)\n",
    "cv2.line(image,(0,150),(300,150),green,2)\n",
    "cv2.line(image,(150,0),(150,300),green,2)\n",
    "display(\"image\",image)"
   ]
  }
 ],
 "metadata": {
  "kernelspec": {
   "display_name": "Python 3 (ipykernel)",
   "language": "python",
   "name": "python3"
  },
  "language_info": {
   "codemirror_mode": {
    "name": "ipython",
    "version": 3
   },
   "file_extension": ".py",
   "mimetype": "text/x-python",
   "name": "python",
   "nbconvert_exporter": "python",
   "pygments_lexer": "ipython3",
   "version": "3.9.12"
  }
 },
 "nbformat": 4,
 "nbformat_minor": 5
}
