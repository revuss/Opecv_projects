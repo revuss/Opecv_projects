{
 "cells": [
  {
   "cell_type": "code",
   "execution_count": 1,
   "id": "9feba4d8",
   "metadata": {},
   "outputs": [],
   "source": [
    "import cv2\n",
    "import numpy as np"
   ]
  },
  {
   "cell_type": "code",
   "execution_count": 2,
   "id": "30d3ba4b",
   "metadata": {},
   "outputs": [],
   "source": [
    "image = cv2.imread(\"bird.jpg\")"
   ]
  },
  {
   "cell_type": "code",
   "execution_count": 3,
   "id": "bf797ad4",
   "metadata": {},
   "outputs": [],
   "source": [
    "def display(name,image):\n",
    "    cv2.imshow(name,image)\n",
    "    cv2.waitKey(0)\n",
    "    cv2.destroyAllWindows()"
   ]
  },
  {
   "cell_type": "code",
   "execution_count": 4,
   "id": "e6d7ac0c",
   "metadata": {},
   "outputs": [],
   "source": [
    "blur = cv2.blur(image,(3,3))"
   ]
  },
  {
   "cell_type": "code",
   "execution_count": 7,
   "id": "197aa8a6",
   "metadata": {},
   "outputs": [],
   "source": [
    "cv2.imshow(\"na\",image)\n",
    "cv2.imshow(\"n23\",blur)\n",
    "\n",
    "cv2.waitKey(0)\n",
    "cv2.destroyAllWindows()"
   ]
  },
  {
   "cell_type": "code",
   "execution_count": null,
   "id": "f6beda07",
   "metadata": {},
   "outputs": [],
   "source": []
  }
 ],
 "metadata": {
  "kernelspec": {
   "display_name": "Python 3 (ipykernel)",
   "language": "python",
   "name": "python3"
  },
  "language_info": {
   "codemirror_mode": {
    "name": "ipython",
    "version": 3
   },
   "file_extension": ".py",
   "mimetype": "text/x-python",
   "name": "python",
   "nbconvert_exporter": "python",
   "pygments_lexer": "ipython3",
   "version": "3.9.12"
  }
 },
 "nbformat": 4,
 "nbformat_minor": 5
}
