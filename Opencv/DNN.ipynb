{
 "cells": [
  {
   "cell_type": "code",
   "execution_count": 3,
   "id": "b45b6c20",
   "metadata": {},
   "outputs": [],
   "source": [
    "import numpy as np\n",
    "import cv2\n"
   ]
  },
  {
   "cell_type": "code",
   "execution_count": 4,
   "id": "0410435a",
   "metadata": {},
   "outputs": [],
   "source": [
    "img = cv2.imread('faces.jpg')"
   ]
  },
  {
   "cell_type": "code",
   "execution_count": 5,
   "id": "78f6ef4e",
   "metadata": {},
   "outputs": [],
   "source": [
    "cv2.imshow(\"new\",img)\n",
    "cv2.waitKey(0)\n",
    "cv2.destroyAllWindows()"
   ]
  },
  {
   "cell_type": "code",
   "execution_count": 8,
   "id": "ac67418b",
   "metadata": {},
   "outputs": [
    {
     "data": {
      "text/plain": [
       "(1, 1, 200, 7)"
      ]
     },
     "execution_count": 8,
     "metadata": {},
     "output_type": "execute_result"
    }
   ],
   "source": [
    "detection.shape"
   ]
  },
  {
   "cell_type": "code",
   "execution_count": 15,
   "id": "f7fa3cb6",
   "metadata": {},
   "outputs": [],
   "source": [
    "def face_detection(img):\n",
    "    blob = cv2.dnn.blobFromImage(img,1,(300,300),(104,177,123),swapRB=True)\n",
    "    mod.setInput(blob)\n",
    "    \n",
    "    detection  = mod.forward()\n",
    "\n",
    "    image = img.copy()\n",
    "    h,w = image.shape[:2]\n",
    "    for i in range(0,detection.shape[2]):\n",
    "        confidence = detection[0,0,i,2]\n",
    "        if confidence > 0.5:\n",
    "            box = detection[0,0,i,3:7]*np.array([w,h,w,h])\n",
    "            box = box.astype('int')\n",
    "            pt1 = (box[0],box[1])\n",
    "            pt2 = (box[2],box[3])\n",
    "            cv2.rectangle(image,pt1,pt2,(0,255,0),1)\n",
    "            text = 'score : {:.0f}'.format(confidence*100)\n",
    "           \n",
    "            cv2.putText(image,text,pt1,cv2.FONT_HERSHEY_COMPLEX,1,(200,200,200),1)\n",
    "    \n",
    "    return image"
   ]
  },
  {
   "cell_type": "code",
   "execution_count": null,
   "id": "0e09205a",
   "metadata": {},
   "outputs": [],
   "source": [
    "new = face_detection(img)\n",
    "cv2.imshow(\"faces by dnn\",new)\n",
    "cv2.waitKey(0)\n",
    "cv2.destroyAllWindows()"
   ]
  },
  {
   "cell_type": "code",
   "execution_count": 16,
   "id": "481acca8",
   "metadata": {},
   "outputs": [],
   "source": [
    "cap = cv2.VideoCapture(0)\n",
    "\n",
    "mod = cv2.dnn.readNetFromCaffe('./models/deploy.prototxt.txt',\n",
    "                               './models/res10_300x300_ssd_iter_140000_fp16.caffemodel')\n",
    "\n",
    "while True:\n",
    "    \n",
    "    \n",
    "    ret,frame = cap.read()\n",
    "    \n",
    "    if ret == False:\n",
    "        break\n",
    "    a = face_detection(frame)\n",
    "    cv2.imshow(\"mew\",a)\n",
    "    if cv2.waitKey(1) == ord('q'):\n",
    "        break\n",
    "cap.release()\n",
    "cv2.destroyAllWindows()"
   ]
  },
  {
   "cell_type": "code",
   "execution_count": null,
   "id": "663da33f",
   "metadata": {},
   "outputs": [],
   "source": []
  }
 ],
 "metadata": {
  "kernelspec": {
   "display_name": "Python 3 (ipykernel)",
   "language": "python",
   "name": "python3"
  },
  "language_info": {
   "codemirror_mode": {
    "name": "ipython",
    "version": 3
   },
   "file_extension": ".py",
   "mimetype": "text/x-python",
   "name": "python",
   "nbconvert_exporter": "python",
   "pygments_lexer": "ipython3",
   "version": "3.9.12"
  }
 },
 "nbformat": 4,
 "nbformat_minor": 5
}
