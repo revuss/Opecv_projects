{
 "cells": [
  {
   "cell_type": "code",
   "execution_count": 47,
   "id": "ea1d7c32",
   "metadata": {},
   "outputs": [],
   "source": [
    "import cv2\n",
    "import numpy as np\n",
    "import time"
   ]
  },
  {
   "cell_type": "code",
   "execution_count": 48,
   "id": "6854c17e",
   "metadata": {},
   "outputs": [],
   "source": [
    "cap = cv2.VideoCapture('clip.mp4')\n",
    "fps = 0"
   ]
  },
  {
   "cell_type": "code",
   "execution_count": 49,
   "id": "51b8cde4",
   "metadata": {},
   "outputs": [],
   "source": [
    "while True:\n",
    "    start = time.time()\n",
    "    ret,frame = cap.read()\n",
    "    \n",
    "    \n",
    "    if ret == False:\n",
    "        break\n",
    "    cv2.putText(frame,'FPS : {:.0f}'.format(fps),(30,40),cv2.FONT_HERSHEY_COMPLEX,1.5,(200,200,200),1)\n",
    "    cv2.imshow(\"window\",frame)\n",
    "    if cv2.waitKey(40) == ord('q'):\n",
    "        break\n",
    "    time_taken = time.time() - start\n",
    "    fps = 1/time_taken\n",
    "cap.release()\n",
    "cv2.destroyAllWindows()"
   ]
  },
  {
   "cell_type": "code",
   "execution_count": null,
   "id": "057649bd",
   "metadata": {},
   "outputs": [],
   "source": []
  }
 ],
 "metadata": {
  "kernelspec": {
   "display_name": "Python 3 (ipykernel)",
   "language": "python",
   "name": "python3"
  },
  "language_info": {
   "codemirror_mode": {
    "name": "ipython",
    "version": 3
   },
   "file_extension": ".py",
   "mimetype": "text/x-python",
   "name": "python",
   "nbconvert_exporter": "python",
   "pygments_lexer": "ipython3",
   "version": "3.9.12"
  }
 },
 "nbformat": 4,
 "nbformat_minor": 5
}
