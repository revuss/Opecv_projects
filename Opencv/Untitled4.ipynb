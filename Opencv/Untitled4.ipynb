{
 "cells": [
  {
   "cell_type": "code",
   "execution_count": 2,
   "id": "ac280752",
   "metadata": {},
   "outputs": [],
   "source": [
    "import cv2\n",
    "import numpy as np"
   ]
  },
  {
   "cell_type": "markdown",
   "id": "44a62075",
   "metadata": {},
   "source": [
    "# Flow Diagram"
   ]
  },
  {
   "cell_type": "markdown",
   "id": "2d991160",
   "metadata": {},
   "source": [
    "![images](images/pencil_sketch_flow.PNG)"
   ]
  },
  {
   "cell_type": "code",
   "execution_count": 4,
   "id": "dd3101c2",
   "metadata": {},
   "outputs": [],
   "source": [
    "image = cv2.imread('images/friends.jpg')\n",
    "cv2.imshow(\"original\",image)\n",
    "cv2.waitKey(0)\n",
    "cv2.destroyAllWindows()"
   ]
  },
  {
   "cell_type": "code",
   "execution_count": 5,
   "id": "f5fb6bf3",
   "metadata": {},
   "outputs": [],
   "source": [
    "gray = cv2.cvtColor(image,cv2.COLOR_BGR2GRAY)\n",
    "cv2.imshow(\"GRay\",gray)\n",
    "cv2.waitKey(0)\n",
    "cv2.destroyAllWindows()"
   ]
  },
  {
   "cell_type": "code",
   "execution_count": 6,
   "id": "59db309a",
   "metadata": {},
   "outputs": [],
   "source": [
    "Guassian = cv2.GaussianBlur(gray,(5,5),0)\n",
    "cv2.imshow(\"Blurred\",Guassian)\n",
    "cv2.waitKey(0)\n",
    "cv2.destroyAllWindows()"
   ]
  },
  {
   "cell_type": "code",
   "execution_count": 7,
   "id": "deac92ad",
   "metadata": {},
   "outputs": [],
   "source": [
    "divide = cv2.divide(gray,Guassian,scale =256)\n",
    "cv2.imshow(\"original\",divide)\n",
    "cv2.waitKey(0)\n",
    "cv2.destroyAllWindows()"
   ]
  },
  {
   "cell_type": "code",
   "execution_count": 8,
   "id": "36b83a7d",
   "metadata": {},
   "outputs": [],
   "source": [
    "gamma = 0.1\n",
    "if gamma == 0:\n",
    "    gamma  = 0.01\n",
    "\n",
    "invgamma = 1/gamma\n",
    "lut = np.array([((i/255)**invgamma)*255 for i in range(0,256)])\n",
    "pencil_sketch = cv2.LUT(divide.astype('uint8'),lut.astype('uint8'))\n",
    "    "
   ]
  },
  {
   "cell_type": "code",
   "execution_count": 9,
   "id": "c9379fbe",
   "metadata": {},
   "outputs": [],
   "source": [
    "cv2.imshow(\"Final Output\",pencil_sketch)\n",
    "cv2.waitKey(0)\n",
    "cv2.destroyAllWindows()"
   ]
  },
  {
   "cell_type": "code",
   "execution_count": 40,
   "id": "8b244b9a",
   "metadata": {},
   "outputs": [],
   "source": [
    "def name():\n",
    "    None\n",
    "def pencil_sketch(image,gamma):\n",
    "    cv2.namedWindow(\"Sketch\")\n",
    "    cv2.createTrackbar(\"ksize\",\"Sketch\",1,100,(lambda x:None))\n",
    "    cv2.createTrackbar(\"Gamma\",\"Sketch\",1,100,(lambda x:None))\n",
    "    while True:\n",
    "        k = cv2.getTrackbarPos(\"ksize\",\"Sketch\")\n",
    "        k = 2*k+1\n",
    "        gamma = cv2.getTrackbarPos(\"Gamma\",\"Sketch\")\n",
    "        gamma = 0.5\n",
    "        gamma = 1/100\n",
    "        gray = cv2.cvtColor(image,cv2.COLOR_BGR2GRAY)\n",
    "        blur = cv2.GaussianBlur(gray,(k,k),0)\n",
    "        divide = cv2.divide(gray,blur,scale =255)\n",
    "#         if gamma == 0 :\n",
    "#             gamma = 0.4\n",
    "#         elif gamma > 1:\n",
    "#             gamma= 0.5\n",
    "#         elif gamma < 0:\n",
    "#             gamma = 1\n",
    "        invgamma = 1/gamma\n",
    "        final  = np.array([((i/255)*invgamma)*255 for i in range(0,256)])\n",
    "        sketch  = cv2.LUT(divide.astype('uint8'),final.astype('uint8'))\n",
    "        cv2.imshow(\"Sketch\",sketch)\n",
    "        if cv2.waitKey(1) == ord(\"q\"):\n",
    "            break\n",
    "            \n",
    "    cv2.destroyAllWindows()"
   ]
  },
  {
   "cell_type": "code",
   "execution_count": 41,
   "id": "76aaee70",
   "metadata": {},
   "outputs": [
    {
     "ename": "error",
     "evalue": "OpenCV(4.6.0) D:\\a\\opencv-python\\opencv-python\\opencv\\modules\\highgui\\src\\window_w32.cpp:2581: error: (-27:Null pointer) NULL window: 'Sketch' in function 'cvGetTrackbarPos'\n",
     "output_type": "error",
     "traceback": [
      "\u001b[1;31m---------------------------------------------------------------------------\u001b[0m",
      "\u001b[1;31merror\u001b[0m                                     Traceback (most recent call last)",
      "Input \u001b[1;32mIn [41]\u001b[0m, in \u001b[0;36m<cell line: 2>\u001b[1;34m()\u001b[0m\n\u001b[0;32m      1\u001b[0m ima \u001b[38;5;241m=\u001b[39m cv2\u001b[38;5;241m.\u001b[39mimread(\u001b[38;5;124m'\u001b[39m\u001b[38;5;124mimages/ironman.jpg\u001b[39m\u001b[38;5;124m'\u001b[39m)\n\u001b[1;32m----> 2\u001b[0m \u001b[43mpencil_sketch\u001b[49m\u001b[43m(\u001b[49m\u001b[43mima\u001b[49m\u001b[43m)\u001b[49m\n",
      "Input \u001b[1;32mIn [40]\u001b[0m, in \u001b[0;36mpencil_sketch\u001b[1;34m(image)\u001b[0m\n\u001b[0;32m      6\u001b[0m cv2\u001b[38;5;241m.\u001b[39mcreateTrackbar(\u001b[38;5;124m\"\u001b[39m\u001b[38;5;124mGamma\u001b[39m\u001b[38;5;124m\"\u001b[39m,\u001b[38;5;124m\"\u001b[39m\u001b[38;5;124mSketch\u001b[39m\u001b[38;5;124m\"\u001b[39m,\u001b[38;5;241m1\u001b[39m,\u001b[38;5;241m100\u001b[39m,(\u001b[38;5;28;01mlambda\u001b[39;00m x:\u001b[38;5;28;01mNone\u001b[39;00m))\n\u001b[0;32m      7\u001b[0m \u001b[38;5;28;01mwhile\u001b[39;00m \u001b[38;5;28;01mTrue\u001b[39;00m:\n\u001b[1;32m----> 8\u001b[0m     k \u001b[38;5;241m=\u001b[39m \u001b[43mcv2\u001b[49m\u001b[38;5;241;43m.\u001b[39;49m\u001b[43mgetTrackbarPos\u001b[49m\u001b[43m(\u001b[49m\u001b[38;5;124;43m\"\u001b[39;49m\u001b[38;5;124;43mksize\u001b[39;49m\u001b[38;5;124;43m\"\u001b[39;49m\u001b[43m,\u001b[49m\u001b[38;5;124;43m\"\u001b[39;49m\u001b[38;5;124;43mSketch\u001b[39;49m\u001b[38;5;124;43m\"\u001b[39;49m\u001b[43m)\u001b[49m\n\u001b[0;32m      9\u001b[0m     k \u001b[38;5;241m=\u001b[39m \u001b[38;5;241m2\u001b[39m\u001b[38;5;241m*\u001b[39mk\u001b[38;5;241m+\u001b[39m\u001b[38;5;241m1\u001b[39m\n\u001b[0;32m     10\u001b[0m     gamma \u001b[38;5;241m=\u001b[39m cv2\u001b[38;5;241m.\u001b[39mgetTrackbarPos(\u001b[38;5;124m\"\u001b[39m\u001b[38;5;124mGamma\u001b[39m\u001b[38;5;124m\"\u001b[39m,\u001b[38;5;124m\"\u001b[39m\u001b[38;5;124mSketch\u001b[39m\u001b[38;5;124m\"\u001b[39m)\n",
      "\u001b[1;31merror\u001b[0m: OpenCV(4.6.0) D:\\a\\opencv-python\\opencv-python\\opencv\\modules\\highgui\\src\\window_w32.cpp:2581: error: (-27:Null pointer) NULL window: 'Sketch' in function 'cvGetTrackbarPos'\n"
     ]
    }
   ],
   "source": [
    "ima = cv2.imread('images/ironman.jpg')\n",
    "pencil_sketch(ima)"
   ]
  },
  {
   "cell_type": "code",
   "execution_count": null,
   "id": "585157b9",
   "metadata": {},
   "outputs": [],
   "source": []
  }
 ],
 "metadata": {
  "kernelspec": {
   "display_name": "Python 3 (ipykernel)",
   "language": "python",
   "name": "python3"
  },
  "language_info": {
   "codemirror_mode": {
    "name": "ipython",
    "version": 3
   },
   "file_extension": ".py",
   "mimetype": "text/x-python",
   "name": "python",
   "nbconvert_exporter": "python",
   "pygments_lexer": "ipython3",
   "version": "3.9.12"
  }
 },
 "nbformat": 4,
 "nbformat_minor": 5
}
