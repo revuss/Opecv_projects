{
 "cells": [
  {
   "cell_type": "code",
   "execution_count": 4,
   "id": "0198fae1",
   "metadata": {},
   "outputs": [],
   "source": [
    "import cv2\n",
    "import numpy as np"
   ]
  },
  {
   "cell_type": "code",
   "execution_count": 5,
   "id": "7a01d40a",
   "metadata": {},
   "outputs": [],
   "source": [
    "image = cv2.imread('faces.jpg')"
   ]
  },
  {
   "cell_type": "code",
   "execution_count": 6,
   "id": "eaf884f0",
   "metadata": {},
   "outputs": [],
   "source": [
    "def display(name,imag):\n",
    "    cv2.imshow(name,imag)\n",
    "    cv2.waitKey(0)\n",
    "    cv2.destroyAllWindows()\n",
    "    "
   ]
  },
  {
   "cell_type": "code",
   "execution_count": 7,
   "id": "bbeab7f2",
   "metadata": {},
   "outputs": [],
   "source": [
    "display(\"faces\",image)"
   ]
  },
  {
   "cell_type": "code",
   "execution_count": 8,
   "id": "20b9cfc8",
   "metadata": {},
   "outputs": [],
   "source": [
    "cas = cv2.CascadeClassifier('eye.xml')"
   ]
  },
  {
   "cell_type": "code",
   "execution_count": 9,
   "id": "ebd11e30",
   "metadata": {},
   "outputs": [],
   "source": [
    "def read_img(image):\n",
    "#     img = image.copy()\n",
    "    gray = cv2.cvtColor(image,cv2.COLOR_BGR2GRAY)\n",
    "\n",
    "    box,detection = cas.detectMultiScale2(gray,minNeighbors=2)\n",
    "\n",
    "    for x,y,w,h in box:\n",
    "        cv2.rectangle(image,(x,y),(x+w,y+h),(10,200,20),1)\n",
    "    return image\n"
   ]
  },
  {
   "cell_type": "code",
   "execution_count": 10,
   "id": "e611092c",
   "metadata": {},
   "outputs": [],
   "source": [
    "new =read_img(image)\n",
    "display(\"n\",new)"
   ]
  },
  {
   "cell_type": "code",
   "execution_count": 12,
   "id": "fe6d428e",
   "metadata": {},
   "outputs": [],
   "source": [
    "cap = cv2.VideoCapture(0)\n",
    "while True:\n",
    "    ret,frame = cap.read(0)\n",
    "    if ret == False:\n",
    "        break\n",
    "    a = read_img(frame)\n",
    "    cv2.imshow(\"won\",a)\n",
    "    if cv2.waitKey(1) == ord(\"q\"):\n",
    "        break\n",
    "cap.release()\n",
    "cv2.destroyAllWindows()\n"
   ]
  },
  {
   "cell_type": "code",
   "execution_count": null,
   "id": "9b32e088",
   "metadata": {},
   "outputs": [],
   "source": []
  }
 ],
 "metadata": {
  "kernelspec": {
   "display_name": "Python 3 (ipykernel)",
   "language": "python",
   "name": "python3"
  },
  "language_info": {
   "codemirror_mode": {
    "name": "ipython",
    "version": 3
   },
   "file_extension": ".py",
   "mimetype": "text/x-python",
   "name": "python",
   "nbconvert_exporter": "python",
   "pygments_lexer": "ipython3",
   "version": "3.9.12"
  }
 },
 "nbformat": 4,
 "nbformat_minor": 5
}
