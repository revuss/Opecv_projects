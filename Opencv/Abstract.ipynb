{
 "cells": [
  {
   "cell_type": "code",
   "execution_count": 7,
   "id": "9e07d4d3",
   "metadata": {},
   "outputs": [],
   "source": [
    "import cv2\n",
    "import numpy as np\n"
   ]
  },
  {
   "cell_type": "code",
   "execution_count": 44,
   "id": "69246c78",
   "metadata": {},
   "outputs": [],
   "source": [
    "image = np.zeros((1440,2960,3),dtype=\"uint8\")"
   ]
  },
  {
   "cell_type": "code",
   "execution_count": 19,
   "id": "ea8a8a00",
   "metadata": {},
   "outputs": [],
   "source": [
    "def display(name,image):\n",
    "    cv2.imshow(name,image)\n",
    "    cv2.waitKey(0)\n",
    "    cv2.destroyAllWindows()"
   ]
  },
  {
   "cell_type": "code",
   "execution_count": 11,
   "id": "70471c35",
   "metadata": {},
   "outputs": [],
   "source": [
    "display(\"window\",image)"
   ]
  },
  {
   "cell_type": "code",
   "execution_count": 15,
   "id": "46f51f24",
   "metadata": {},
   "outputs": [],
   "source": [
    "cenx,ceny = (image.shape[1]//2,image.shape[0]//2)\n",
    "color = (255,255,255)\n",
    "for i in range(0,175,25):\n",
    "    cv2.circle(image,(cenx,ceny),i,color)\n",
    "\n",
    "display(\"image\",image)"
   ]
  },
  {
   "cell_type": "code",
   "execution_count": 46,
   "id": "b2d86476",
   "metadata": {},
   "outputs": [
    {
     "data": {
      "text/plain": [
       "True"
      ]
     },
     "execution_count": 46,
     "metadata": {},
     "output_type": "execute_result"
    }
   ],
   "source": [
    "for i in range(0,200000):\n",
    "    radius = np.random.randint(0,10)\n",
    "    color = np.random.randint(255,256,size=(3)).tolist()\n",
    "    pt = np.random.randint(0,2960,size=(2,))\n",
    "    \n",
    "    cv2.circle(image,tuple(pt),radius,color,1)\n",
    "\n",
    "display(\"image\",image)"
   ]
  }
 ],
 "metadata": {
  "kernelspec": {
   "display_name": "Python 3 (ipykernel)",
   "language": "python",
   "name": "python3"
  },
  "language_info": {
   "codemirror_mode": {
    "name": "ipython",
    "version": 3
   },
   "file_extension": ".py",
   "mimetype": "text/x-python",
   "name": "python",
   "nbconvert_exporter": "python",
   "pygments_lexer": "ipython3",
   "version": "3.9.12"
  }
 },
 "nbformat": 4,
 "nbformat_minor": 5
}
