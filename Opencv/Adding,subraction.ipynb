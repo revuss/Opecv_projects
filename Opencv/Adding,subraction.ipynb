{
 "cells": [
  {
   "cell_type": "code",
   "execution_count": 18,
   "id": "2e3491ee",
   "metadata": {},
   "outputs": [],
   "source": [
    "import numpy as np\n",
    "import cv2\n"
   ]
  },
  {
   "cell_type": "code",
   "execution_count": 19,
   "id": "fe1c1b8a",
   "metadata": {},
   "outputs": [],
   "source": [
    "real = cv2.imread(\"bird.jpg\")"
   ]
  },
  {
   "cell_type": "code",
   "execution_count": 7,
   "id": "065d44cf",
   "metadata": {},
   "outputs": [],
   "source": [
    "cv2.imshow(\"ne\",real)\n",
    "cv2.waitKey(0)\n",
    "cv2.destroyAllWindows()"
   ]
  },
  {
   "cell_type": "code",
   "execution_count": 20,
   "id": "9b3fed2f",
   "metadata": {},
   "outputs": [],
   "source": [
    "bright = np.ones_like(real,dtype='uint8')*50"
   ]
  },
  {
   "cell_type": "code",
   "execution_count": 21,
   "id": "94cf3aed",
   "metadata": {},
   "outputs": [],
   "source": [
    "image = cv2.add(real,bright)\n",
    "image_sun = cv2.subtract(real,bright)"
   ]
  },
  {
   "cell_type": "code",
   "execution_count": 10,
   "id": "eb7bf013",
   "metadata": {},
   "outputs": [],
   "source": [
    "cv2.imshow(\"add\",image)\n",
    "cv2.imshow(\"sub\",image_sun)\n",
    "cv2.imshow(\"real\",real)\n",
    "cv2.waitKey(0)\n",
    "cv2.destroyAllWindows()"
   ]
  },
  {
   "cell_type": "markdown",
   "id": "20a35595",
   "metadata": {},
   "source": [
    "# Blending"
   ]
  },
  {
   "cell_type": "code",
   "execution_count": 24,
   "id": "2f83bbfa",
   "metadata": {},
   "outputs": [],
   "source": [
    "img1 = cv2.imread('blend_1.jpg')\n",
    "img2 = cv2.imread('blend_2.jpg')"
   ]
  },
  {
   "cell_type": "code",
   "execution_count": 25,
   "id": "2bec3d34",
   "metadata": {},
   "outputs": [],
   "source": [
    "final = cv2.addWeighted(img1,0.5,img2,0.3,1)"
   ]
  },
  {
   "cell_type": "code",
   "execution_count": 26,
   "id": "56bd229f",
   "metadata": {},
   "outputs": [],
   "source": [
    "cv2.imshow(\"add\",final)\n",
    "cv2.waitKey(0)\n",
    "cv2.destroyAllWindows()"
   ]
  },
  {
   "cell_type": "code",
   "execution_count": null,
   "id": "3fdfb641",
   "metadata": {},
   "outputs": [],
   "source": []
  }
 ],
 "metadata": {
  "kernelspec": {
   "display_name": "Python 3 (ipykernel)",
   "language": "python",
   "name": "python3"
  },
  "language_info": {
   "codemirror_mode": {
    "name": "ipython",
    "version": 3
   },
   "file_extension": ".py",
   "mimetype": "text/x-python",
   "name": "python",
   "nbconvert_exporter": "python",
   "pygments_lexer": "ipython3",
   "version": "3.9.12"
  }
 },
 "nbformat": 4,
 "nbformat_minor": 5
}
